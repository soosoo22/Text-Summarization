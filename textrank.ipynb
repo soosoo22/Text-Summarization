{
 "cells": [
  {
   "cell_type": "code",
   "execution_count": 44,
   "metadata": {
    "colab": {
     "base_uri": "https://localhost:8080/",
     "height": 199
    },
    "colab_type": "code",
    "id": "fqbmunnVqfxm",
    "outputId": "19113403-863f-4637-c16d-db5099498ac1"
   },
   "outputs": [
    {
     "name": "stdout",
     "output_type": "stream",
     "text": [
      "[사진] 울산현대 제공. [사진] 울산현대 제공.\n",
      "\n",
      "[사진] 울산 현대 제공. [사진] 울산 현대 제공.\n",
      "\n",
      "[사진] 울산 현대 제공. [사진] 울산 현대 제공.\n",
      "\n",
      "[OSEN=고성환 기자] 울산현대가 어린이날 대구 원정을 떠난다.울산은 5일 오후 2시 DGB대구은행파크에서 대구FC와 하나원큐 K리그1 2023 11라운드 원정 경기를 치른다.현재 10경기를 소화한 울산은 8승 1무 1패 승점 25점으로 2위 그룹(FC서울, 포항스틸러스 승점19)과 격차를 6점으로 벌리며 단독 선두를 질주하고 있다.지난달 29, 30일에 치러졌던 K리그1 10라운드에서 울산은 홈 팀 중에 유일하게 승리를 챙겼다. 30일 호랑이굴에서 승격팀 광주FC를 맞아 후반 36분 선제골을 허용했지만, 41분 바코와 45분 주민규의 연속골에 힘입어 2-1로 짜릿한 역전승을 거뒀다.울산은 이번 시즌 ‘역전의 명수’다. 2월 25일 전북현대와 홈 개막전, 3월 12일 서울 원정, 4월 30일 광주전 모두 선제 실점을 한 뒤 고도의 집중력과 투혼, 결정력을 발휘하며 세 경기 모두 2-1 역전승을 챙겼다. 4월 22일 포항과 동해안더비에서는 두 골을 내준 뒤 두 골을 따라붙는 무서운 뒷심을 발휘, 2-2로 값진 승점 1점을 손에 넣었다.최근 팬들의 성원도 울산 상승세에 힘을 보태고 있다. 광주전은 일요일 저녁 경기임에도 1만 2,068명이 들어찼다. 실점한 순간에 팬들은 선수들처럼 전혀 흔들림 없었고, 마치 A매치 분위기를 방불케 하듯 모두 일어서서 함성과 박수로 열띤 응원을 보냈다. 그 결과 드라마 같은 기적을 만들 수 있었다. 2, 3월 K리그 최다 관중과 평균 관중 1위를 차지했던 울산은 홈 다섯 경기에서 총 8만 7,279명에 입장했다. 평균 1만 7,456명으로 평균 1만 관중 목표를 향해 순항 중이다.다시 2연승으로 불이 붙은 울산은 달구벌에서 3연승에 도전한다. 울산은 대구에 통산 전적에서 29승 14무 8패로 우위를 점하고 있다. 홍명보 감독 부임 후 4승 1무 2패를 기록 중이다. 지난 시즌 세 차례 맞대결에서 2승 1무로 앞섰다.그러나 대구 원정에서는 2021시즌 2패, 2022시즌 1무로 아직 승리가 없다. 이번에는 반드시 승리해 팬 성원에 보답하겠다는 의지다. 팬들의 기대를 반영해주듯 울산에 할당된 원정 572석은 예매 시작 1분도 안 돼 매진됐다.현재 울산은 10경기 9실점으로 K리그1에서 가장 단단한 방패를 자랑한다. 공격은 19골로 FC서울(21골)에 이어 2위에 올라있지만, 주민규와 바코가 포항, 광주전에서 나란히 득점포를 가동했다. 주민규는 5호골로 루빅손과 득점 2위를 형성, 선두 나상호(서울, 7골) 추격에 박차를 가하고 있다.지난달 25일 인천유나이티드 원정에서 시즌 첫 골을 신고했던 마틴 아담도 출격 준비를 마쳤다. 아담은 지난해 8월 13일 대구와 홈경기에서 페널티킥으로 데뷔골을 신고, 1도움도 추가했던 좋은 추억이 있다.한편, 울산은 이번 대구 원정에서 HD현대일렉트릭과 함께하는 2023시즌 브랜드 데이 유니폼을 입고 뛴다. 화이트를 기본 배경으로 블랙 스트라이프가 가미됐다. 대비되는 색상으로 의미를 부여한 ‘반전’에는 “지난 시즌 17년 만의 리그 우승을 달성하며, K리그 우승 왕조에 반전을 안겨준 ‘울산’”이라는 속뜻이 담겨 있다. 또한 ‘깔끔함’이 돋보이는 이번 서드킷 디자인은 일상에서도 어울리는 세련됨을 자랑한다./finekosh@osen.co.kr\n",
      "\n",
      "기사제공 OSEN\n",
      "\n",
      "Copyright ⓒ OSEN. All rights reserved. 무단 전재 및 재배포 금지.\n"
     ]
    }
   ],
   "source": [
    "from gensim.summarization.summarizer import summarize\n",
    "from newspaper import Article\n",
    "\n",
    "url = 'https://sports.news.naver.com/news?oid=109&aid=0004843568'\n",
    "news = Article(url, language='ko')\n",
    "news.download()\n",
    "news.parse()\n",
    "print(news.text)"
   ]
  },
  {
   "cell_type": "code",
   "execution_count": 39,
   "metadata": {
    "colab": {
     "base_uri": "https://localhost:8080/",
     "height": 73
    },
    "colab_type": "code",
    "id": "_ZSeh1plwuYW",
    "outputId": "c0c9a4fc-e58a-4a38-c9da-9ce5250482f3",
    "scrolled": true
   },
   "outputs": [
    {
     "name": "stdout",
     "output_type": "stream",
     "text": [
      "[OSEN=고성환 기자] 울산현대가 어린이날 대구 원정을 떠난다.울산은 5일 오후 2시 DGB대구은행파크에서 대구FC와 하나원큐 K리그1 2023 11라운드 원정 경기를 치른다.현재 10경기를 소화한 울산은 8승 1무 1패 승점 25점으로 2위 그룹(FC서울, 포항스틸러스 승점19)과 격차를 6점으로 벌리며 단독 선두를 질주하고 있다.지난달 29, 30일에 치러졌던 K리그1 10라운드에서 울산은 홈 팀 중에 유일하게 승리를 챙겼다.\n"
     ]
    }
   ],
   "source": [
    "# 단어 수 50 설정\n",
    "print(summarize(news.text, word_count=50))"
   ]
  },
  {
   "cell_type": "code",
   "execution_count": 41,
   "metadata": {
    "colab": {},
    "colab_type": "code",
    "id": "ifthsST-xM_c"
   },
   "outputs": [
    {
     "name": "stdout",
     "output_type": "stream",
     "text": [
      "[OSEN=고성환 기자] 울산현대가 어린이날 대구 원정을 떠난다.울산은 5일 오후 2시 DGB대구은행파크에서 대구FC와 하나원큐 K리그1 2023 11라운드 원정 경기를 치른다.현재 10경기를 소화한 울산은 8승 1무 1패 승점 25점으로 2위 그룹(FC서울, 포항스틸러스 승점19)과 격차를 6점으로 벌리며 단독 선두를 질주하고 있다.지난달 29, 30일에 치러졌던 K리그1 10라운드에서 울산은 홈 팀 중에 유일하게 승리를 챙겼다.\n",
      "평균 1만 7,456명으로 평균 1만 관중 목표를 향해 순항 중이다.다시 2연승으로 불이 붙은 울산은 달구벌에서 3연승에 도전한다.\n"
     ]
    }
   ],
   "source": [
    "\n",
    "print(summarize(news.text, ratio=0.1))"
   ]
  },
  {
   "cell_type": "code",
   "execution_count": 42,
   "metadata": {},
   "outputs": [
    {
     "name": "stdout",
     "output_type": "stream",
     "text": [
      "[OSEN=고성환 기자] 울산현대가 어린이날 대구 원정을 떠난다.울산은 5일 오후 2시 DGB대구은행파크에서 대구FC와 하나원큐 K리그1 2023 11라운드 원정 경기를 치른다.현재 10경기를 소화한 울산은 8승 1무 1패 승점 25점으로 2위 그룹(FC서울, 포항스틸러스 승점19)과 격차를 6점으로 벌리며 단독 선두를 질주하고 있다.지난달 29, 30일에 치러졌던 K리그1 10라운드에서 울산은 홈 팀 중에 유일하게 승리를 챙겼다.\n",
      "30일 호랑이굴에서 승격팀 광주FC를 맞아 후반 36분 선제골을 허용했지만, 41분 바코와 45분 주민규의 연속골에 힘입어 2-1로 짜릿한 역전승을 거뒀다.울산은 이번 시즌 ‘역전의 명수’다.\n",
      "2, 3월 K리그 최다 관중과 평균 관중 1위를 차지했던 울산은 홈 다섯 경기에서 총 8만 7,279명에 입장했다.\n",
      "평균 1만 7,456명으로 평균 1만 관중 목표를 향해 순항 중이다.다시 2연승으로 불이 붙은 울산은 달구벌에서 3연승에 도전한다.\n",
      "팬들의 기대를 반영해주듯 울산에 할당된 원정 572석은 예매 시작 1분도 안 돼 매진됐다.현재 울산은 10경기 9실점으로 K리그1에서 가장 단단한 방패를 자랑한다.\n"
     ]
    }
   ],
   "source": [
    "# 옵션없이 단순 요약\n",
    "print(summarize(news.text))\n"
   ]
  },
  {
   "cell_type": "code",
   "execution_count": 37,
   "metadata": {
    "scrolled": true
   },
   "outputs": [
    {
     "name": "stdout",
     "output_type": "stream",
     "text": [
      "\n"
     ]
    }
   ],
   "source": []
  },
  {
   "cell_type": "code",
   "execution_count": null,
   "metadata": {},
   "outputs": [],
   "source": []
  }
 ],
 "metadata": {
  "colab": {
   "name": "Untitled1.ipynb",
   "provenance": [],
   "toc_visible": true
  },
  "kernelspec": {
   "display_name": "Python 3 (ipykernel)",
   "language": "python",
   "name": "python3"
  },
  "language_info": {
   "codemirror_mode": {
    "name": "ipython",
    "version": 3
   },
   "file_extension": ".py",
   "mimetype": "text/x-python",
   "name": "python",
   "nbconvert_exporter": "python",
   "pygments_lexer": "ipython3",
   "version": "3.7.9"
  }
 },
 "nbformat": 4,
 "nbformat_minor": 1
}
